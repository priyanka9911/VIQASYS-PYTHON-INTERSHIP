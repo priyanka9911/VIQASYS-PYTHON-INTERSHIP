{
 "cells": [
  {
   "cell_type": "markdown",
   "id": "5007131b-0512-417f-aed1-840600ca6f05",
   "metadata": {},
   "source": [
    "___\n",
    "\n",
    "<a href='https://viqasys.com/wp-content/uploads/2021/07/ns1.png'><img src='https://viqasys.com/wp-content/uploads/2021/07/ns1.png'/></a>\n",
    "___\n",
    "<center><em>Content Copyright VIQASYS INNOVATIONS PVT LTD.</em></center>\n",
    "\n",
    "# Assignment 3"
   ]
  },
  {
   "cell_type": "markdown",
   "id": "ac51df3b-2409-40a4-9072-da5bb6601ed8",
   "metadata": {},
   "source": [
    "## Question 1\n",
    "Write a Python program to create a list with the following elements: 4, 8, 9, 'apple', 'banana', 'cherry'. Print the list."
   ]
  },
  {
   "cell_type": "code",
   "execution_count": 1,
   "id": "75679d1a",
   "metadata": {},
   "outputs": [
    {
     "name": "stdout",
     "output_type": "stream",
     "text": [
      "[4, 8, 9, 'apple', 'banana', 'cherry']\n"
     ]
    }
   ],
   "source": [
    "list = [4,8,9,'apple','banana','cherry']\n",
    "print(list)"
   ]
  },
  {
   "cell_type": "markdown",
   "id": "f185ce21-1f5f-4e3f-8131-c5c4390cd870",
   "metadata": {},
   "source": [
    "## Question 2\n",
    "Given the list [10, 20, 30, 40, 50], write a Python script to print the second and fourth elements."
   ]
  },
  {
   "cell_type": "code",
   "execution_count": 2,
   "id": "6bce8ae9-bf42-48d6-a32b-8b3091f40d68",
   "metadata": {},
   "outputs": [
    {
     "name": "stdout",
     "output_type": "stream",
     "text": [
      "Second element: 20\n",
      "Fourth element: 40\n"
     ]
    }
   ],
   "source": [
    "my_list = [10, 20, 30, 40, 50]\n",
    "\n",
    "print(\"Second element:\", my_list[1])\n",
    "print(\"Fourth element:\", my_list[3])\n"
   ]
  },
  {
   "cell_type": "markdown",
   "id": "44467356-de20-4dca-ba7d-868cfa67fa51",
   "metadata": {},
   "source": [
    "## Question 3\n",
    "Create a list of the first 10 even numbers. Write a Python program to print the first half of the list using slicing."
   ]
  },
  {
   "cell_type": "code",
   "execution_count": 4,
   "id": "8676b25d-15a0-4ef1-972e-3ad380d84633",
   "metadata": {},
   "outputs": [
    {
     "name": "stdout",
     "output_type": "stream",
     "text": [
      "List of the first 10 even numbers: [2, 4, 6, 8, 10, 12, 14, 16, 18, 20]\n",
      "First half of the list: [2, 4, 6, 8, 10]\n"
     ]
    }
   ],
   "source": [
    "even_num = [2 * i for i in range(1, 11)]\n",
    "\n",
    "print(\"List of the first 10 even numbers:\", even_num)\n",
    "\n",
    "first_half = even_num[:len(even_num)//2]\n",
    "print(\"First half of the list:\", first_half)\n"
   ]
  },
  {
   "cell_type": "markdown",
   "id": "98a8e914-d78b-4890-8440-0e869a248917",
   "metadata": {},
   "source": [
    "## Question 4\n",
    "Here is a list: [\"red\", \"green\", \"blue\"]. Change the element \"blue\" to \"yellow\" and print the updated list."
   ]
  },
  {
   "cell_type": "code",
   "execution_count": 5,
   "id": "e3166115-e768-4940-8d38-7aef92261a7a",
   "metadata": {},
   "outputs": [
    {
     "name": "stdout",
     "output_type": "stream",
     "text": [
      "Updated list: ['red', 'green', 'yellow']\n"
     ]
    }
   ],
   "source": [
    "color_list = [\"red\", \"green\", \"blue\"]\n",
    "\n",
    "color_list[2] = \"yellow\"\n",
    "\n",
    "print(\"Updated list:\", color_list)\n"
   ]
  },
  {
   "cell_type": "markdown",
   "id": "d0f8e0f7-20d9-4537-b8d5-a4f187915fb0",
   "metadata": {},
   "source": [
    "## Question 5\n",
    "Start with an empty list. Write a Python program to append 'apple', 'banana', and 'cherry' to the list using separate append calls, then print the list."
   ]
  },
  {
   "cell_type": "code",
   "execution_count": 6,
   "id": "412e0bc7-ecd4-45f1-b8e9-cfef7bde7f5a",
   "metadata": {},
   "outputs": [
    {
     "name": "stdout",
     "output_type": "stream",
     "text": [
      "List after appending: ['apple', 'banana', 'cherry']\n"
     ]
    }
   ],
   "source": [
    "my_list = []\n",
    "\n",
    "my_list.append('apple')\n",
    "\n",
    "my_list.append('banana')\n",
    "\n",
    "my_list.append('cherry')\n",
    "\n",
    "print(\"List after appending:\", my_list)\n"
   ]
  },
  {
   "cell_type": "markdown",
   "id": "12e6a191-cf00-4906-ba66-110a1985959c",
   "metadata": {},
   "source": [
    "## Question 6\n",
    "Given two lists, [1, 2, 3] and [4, 5, 6], write a Python script that extends the first list with the second list and prints the updated list."
   ]
  },
  {
   "cell_type": "code",
   "execution_count": 7,
   "id": "66a96440-5dd3-4079-932e-994cd4d71ff7",
   "metadata": {},
   "outputs": [
    {
     "name": "stdout",
     "output_type": "stream",
     "text": [
      "Updated list: [1, 2, 3, 4, 5, 6]\n"
     ]
    }
   ],
   "source": [
    "\n",
    "list1 = [1, 2, 3]\n",
    "list2 = [4, 5, 6]\n",
    "\n",
    "list1.extend(list2)\n",
    "\n",
    "print(\"Updated list:\", list1)\n"
   ]
  },
  {
   "cell_type": "markdown",
   "id": "f87f4b36-fc85-41f4-9493-936f1b224caf",
   "metadata": {},
   "source": [
    "## Question 7\n",
    "Here is a list: [1, 2, 4]. Insert the number 3 at the appropriate position to maintain sorted order and print the list."
   ]
  },
  {
   "cell_type": "code",
   "execution_count": 8,
   "id": "34b70378-e9f2-4bba-80d9-8eacf4da42ef",
   "metadata": {},
   "outputs": [
    {
     "name": "stdout",
     "output_type": "stream",
     "text": [
      "Updated list: [1, 2, 3, 4]\n"
     ]
    }
   ],
   "source": [
    "my_list = [1, 2, 4]\n",
    "\n",
    "for i in range(len(my_list)):\n",
    "    if my_list[i] > 3:\n",
    "        my_list.insert(i, 3)\n",
    "        break\n",
    "else:\n",
    "    my_list.append(3)\n",
    "    \n",
    "print(\"Updated list:\", my_list)\n"
   ]
  },
  {
   "cell_type": "markdown",
   "id": "5c64bb21-2114-4448-a2de-516e5c9f30aa",
   "metadata": {},
   "source": [
    "## Question 8\n",
    "From the list [1, 2, 3, 4, 5, 3], write a Python program to remove the first occurrence of the number 3."
   ]
  },
  {
   "cell_type": "code",
   "execution_count": 9,
   "id": "927ae20e-959e-4bcf-bf27-0c3a2e8573e7",
   "metadata": {},
   "outputs": [
    {
     "name": "stdout",
     "output_type": "stream",
     "text": [
      "Updated list: [1, 2, 4, 5, 3]\n"
     ]
    }
   ],
   "source": [
    "my_list = [1, 2, 3, 4, 5, 3]\n",
    "\n",
    "my_list.remove(3)\n",
    "\n",
    "print(\"Updated list:\", my_list)\n"
   ]
  },
  {
   "cell_type": "markdown",
   "id": "7f2564e4-324a-4def-b103-207400abbb68",
   "metadata": {},
   "source": [
    "## Question 9\n",
    "Using the list [10, 20, 30, 40, 50], write a Python script to remove and print the last element."
   ]
  },
  {
   "cell_type": "code",
   "execution_count": 10,
   "id": "633f3a15-befd-4bdd-91b8-e17fddcd4a46",
   "metadata": {},
   "outputs": [
    {
     "name": "stdout",
     "output_type": "stream",
     "text": [
      "Removed element: 50\n",
      "Updated list: [10, 20, 30, 40]\n"
     ]
    }
   ],
   "source": [
    "my_list = [10, 20, 30, 40, 50]\n",
    "\n",
    "last_element = my_list.pop()\n",
    "\n",
    "print(\"Removed element:\", last_element)\n",
    "\n",
    "print(\"Updated list:\", my_list)\n"
   ]
  },
  {
   "cell_type": "markdown",
   "id": "a28a2c78-4d2d-423f-a713-93e3c488dd32",
   "metadata": {},
   "source": [
    "## Question 10\n",
    "Take the list [1, 2, 3, 4, 5] and write a Python script that empties the list and prints it."
   ]
  },
  {
   "cell_type": "code",
   "execution_count": 11,
   "id": "b5d6d53d-d00b-40b6-aacd-a284ef3f1f97",
   "metadata": {},
   "outputs": [
    {
     "name": "stdout",
     "output_type": "stream",
     "text": [
      "Empty list: []\n"
     ]
    }
   ],
   "source": [
    "my_list = [1, 2, 3, 4, 5]\n",
    "\n",
    "my_list = []\n",
    "\n",
    "print(\"Empty list:\", my_list)\n"
   ]
  },
  {
   "cell_type": "markdown",
   "id": "17ab293b-73b8-48be-a1ba-5a61b891977b",
   "metadata": {},
   "source": [
    "## Question 11\n",
    "Write a Python program to find the number of elements in the list [1, 2, 3, 4, 5, 6, 7, 8, 9]."
   ]
  },
  {
   "cell_type": "code",
   "execution_count": 12,
   "id": "876d026c-7aae-4f82-89cb-a1e6f776cc88",
   "metadata": {},
   "outputs": [
    {
     "name": "stdout",
     "output_type": "stream",
     "text": [
      "Number of elements in the list: 9\n"
     ]
    }
   ],
   "source": [
    "my_list = [1, 2, 3, 4, 5, 6, 7, 8, 9]\n",
    "\n",
    "num_elements = len(my_list)\n",
    "\n",
    "print(\"Number of elements in the list:\", num_elements)\n"
   ]
  },
  {
   "cell_type": "markdown",
   "id": "5cdc585a-ad90-4ff7-a205-2f6c697e0212",
   "metadata": {},
   "source": [
    "## Question 12\n",
    "Given the list ['apple', 'banana', 'apple', 'cherry'], count and print how many times 'apple' appears in the list."
   ]
  },
  {
   "cell_type": "code",
   "execution_count": 13,
   "id": "db15a2a8-60aa-4bd8-b535-3890693f043c",
   "metadata": {},
   "outputs": [
    {
     "name": "stdout",
     "output_type": "stream",
     "text": [
      "The number of times 'apple' appears in the list is: 2\n"
     ]
    }
   ],
   "source": [
    "fruits = ['apple', 'banana', 'apple', 'cherry']\n",
    "\n",
    "apple_count = fruits.count('apple')\n",
    "\n",
    "print(\"The number of times 'apple' appears in the list is:\", apple_count)\n"
   ]
  },
  {
   "cell_type": "markdown",
   "id": "74ed49f8-5dcb-4dd2-901b-089baf87bc7f",
   "metadata": {},
   "source": [
    "## Question 13\n",
    "Create a list of the words ['banana', 'apple', 'cherry']. Write a Python program to sort the list alphabetically and print it."
   ]
  },
  {
   "cell_type": "code",
   "execution_count": 14,
   "id": "b973bb53-8636-4f08-b03d-7dcdf3462580",
   "metadata": {},
   "outputs": [
    {
     "name": "stdout",
     "output_type": "stream",
     "text": [
      "Sorted list: ['apple', 'banana', 'cherry']\n"
     ]
    }
   ],
   "source": [
    "words = ['banana', 'apple', 'cherry']\n",
    "\n",
    "words.sort()\n",
    "\n",
    "print(\"Sorted list:\", words)\n"
   ]
  },
  {
   "cell_type": "markdown",
   "id": "1055bf83-09c9-4ca0-b977-82a4550f77ce",
   "metadata": {},
   "source": [
    "## Question 14\n",
    "Given the list [1, 2, 3, 4, 5], write a script that reverses the list and prints it."
   ]
  },
  {
   "cell_type": "code",
   "execution_count": 15,
   "id": "ff8a45dc-3d25-427f-9a94-5d27ab48acea",
   "metadata": {},
   "outputs": [
    {
     "name": "stdout",
     "output_type": "stream",
     "text": [
      "[5, 4, 3, 2, 1]\n"
     ]
    }
   ],
   "source": [
    "original_list = [1,2,3,4,5]\n",
    "reverse_list = original_list[::-1]\n",
    "print(reverse_list)"
   ]
  },
  {
   "cell_type": "markdown",
   "id": "2f898254-a16a-4b58-b612-365001301073",
   "metadata": {},
   "source": [
    "## Question 15\n",
    "Check if the value 'cat' exists in the list ['dog', 'rabbit', 'horse'] and print the result as a boolean value."
   ]
  },
  {
   "cell_type": "code",
   "execution_count": 16,
   "id": "1d373be8-bb1f-418f-833c-ab47eb105798",
   "metadata": {},
   "outputs": [
    {
     "name": "stdout",
     "output_type": "stream",
     "text": [
      "False\n"
     ]
    }
   ],
   "source": [
    "my_list = ['dog', 'rabbit', 'horse']\n",
    "result = 'cat' in my_list\n",
    "print(result)\n"
   ]
  },
  {
   "cell_type": "markdown",
   "id": "35ff41d7-1834-4fef-859b-7b13f83c99d0",
   "metadata": {},
   "source": [
    "## Question 16\n",
    "Copy the contents of list a = [1, 2, 3] into a new list b and print both lists."
   ]
  },
  {
   "cell_type": "code",
   "execution_count": 17,
   "id": "17007da4-ec13-4f37-8436-f2e570f75325",
   "metadata": {},
   "outputs": [
    {
     "name": "stdout",
     "output_type": "stream",
     "text": [
      "List a: [1, 2, 3]\n",
      "List b: [1, 2, 3]\n"
     ]
    }
   ],
   "source": [
    "a = [1, 2, 3]\n",
    "b = a.copy() \n",
    "print(\"List a:\", a)\n",
    "print(\"List b:\", b)\n"
   ]
  },
  {
   "cell_type": "markdown",
   "id": "89323cad-c11c-4f28-bc60-a90288f16153",
   "metadata": {},
   "source": [
    "## Question 17\n",
    "Using list comprehension, create a list of squares for numbers from 1 to 10 and print the list."
   ]
  },
  {
   "cell_type": "code",
   "execution_count": 18,
   "id": "c5833a04-7ff2-45eb-945f-5692c8c586a2",
   "metadata": {},
   "outputs": [
    {
     "name": "stdout",
     "output_type": "stream",
     "text": [
      "[1, 4, 9, 16, 25, 36, 49, 64, 81, 100]\n"
     ]
    }
   ],
   "source": [
    "squares = [x ** 2 for x in range(1, 11)]\n",
    "\n",
    "print(squares)"
   ]
  },
  {
   "cell_type": "markdown",
   "id": "0a9dbda1-e89d-4e60-bfa4-aa75af4a0e1f",
   "metadata": {},
   "source": [
    "## Question 18\n",
    "Here is a nested list: [[1, 2], [3, 4], [5, 6]]. Access and print the second element of the first nested list."
   ]
  },
  {
   "cell_type": "code",
   "execution_count": 19,
   "id": "de58f0e6-34d9-4864-888d-73803b83a86a",
   "metadata": {},
   "outputs": [
    {
     "name": "stdout",
     "output_type": "stream",
     "text": [
      "2\n"
     ]
    }
   ],
   "source": [
    "nested_list = [[1, 2], [3, 4], [5, 6]]\n",
    "print(nested_list[0][1])\n"
   ]
  },
  {
   "cell_type": "markdown",
   "id": "7fd88b7f-e099-4405-9642-8947aa036bba",
   "metadata": {},
   "source": [
    "## Question 19\n",
    "Concatenate the lists [1, 2, 3] and [4, 5, 6] into a single list and print the result."
   ]
  },
  {
   "cell_type": "code",
   "execution_count": 20,
   "id": "fc1d6efb-8930-405c-b465-40f58b86ec74",
   "metadata": {},
   "outputs": [
    {
     "name": "stdout",
     "output_type": "stream",
     "text": [
      "[1, 2, 3, 4, 5, 6]\n"
     ]
    }
   ],
   "source": [
    "list1 = [1, 2, 3]\n",
    "list2 = [4, 5, 6]\n",
    "result = list1 + list2\n",
    "print(result)\n"
   ]
  },
  {
   "cell_type": "markdown",
   "id": "d33e6ce9-9610-4065-b5c3-7a0f2e495ace",
   "metadata": {},
   "source": [
    "## Question 20\n",
    "Using a list as a stack, push the elements 10, 20, 30, one by one, and then pop each one in LIFO order, printing each popped element."
   ]
  },
  {
   "cell_type": "code",
   "execution_count": 21,
   "id": "8c2c8bd4-aa66-47b0-971b-7473378cff2f",
   "metadata": {},
   "outputs": [
    {
     "name": "stdout",
     "output_type": "stream",
     "text": [
      "Popped: 30\n",
      "Popped: 20\n",
      "Popped: 10\n"
     ]
    }
   ],
   "source": [
    "stack = []\n",
    "\n",
    "stack.append(10)\n",
    "stack.append(20)\n",
    "stack.append(30)\n",
    "\n",
    "while stack:\n",
    "    popped_element = stack.pop()\n",
    "    print(\"Popped:\", popped_element)\n"
   ]
  },
  {
   "cell_type": "code",
   "execution_count": null,
   "id": "ef3a42e0",
   "metadata": {},
   "outputs": [],
   "source": []
  }
 ],
 "metadata": {
  "kernelspec": {
   "display_name": "Python 3 (ipykernel)",
   "language": "python",
   "name": "python3"
  },
  "language_info": {
   "codemirror_mode": {
    "name": "ipython",
    "version": 3
   },
   "file_extension": ".py",
   "mimetype": "text/x-python",
   "name": "python",
   "nbconvert_exporter": "python",
   "pygments_lexer": "ipython3",
   "version": "3.11.5"
  }
 },
 "nbformat": 4,
 "nbformat_minor": 5
}

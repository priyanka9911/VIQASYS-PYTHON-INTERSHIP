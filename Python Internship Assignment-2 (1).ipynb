{
 "cells": [
  {
   "cell_type": "markdown",
   "metadata": {},
   "source": [
    "___\n",
    "\n",
    "<a href='https://viqasys.com/wp-content/uploads/2021/07/ns1.png'><img src='https://viqasys.com/wp-content/uploads/2021/07/ns1.png'/></a>\n",
    "___\n",
    "<center><em>Content Copyright VIQASYS INNOVATIONS PVT LTD.</em></center>\n",
    "\n",
    "# Assignment 1"
   ]
  },
  {
   "cell_type": "markdown",
   "metadata": {},
   "source": [
    "# Question 1\n",
    "\n",
    "Write a program to calculate the area of a circle when the radius is given."
   ]
  },
  {
   "cell_type": "code",
   "execution_count": 22,
   "metadata": {},
   "outputs": [
    {
     "name": "stdout",
     "output_type": "stream",
     "text": [
      "Area of circle: 78.5500\n"
     ]
    }
   ],
   "source": [
    "def area(r):\n",
    "    pi=3.142\n",
    "    return(pi*r*r);\n",
    "print(\"Area of circle: %.4f\" %area(5))\n"
   ]
  },
  {
   "cell_type": "markdown",
   "metadata": {},
   "source": [
    "## Question 2\n",
    "\n",
    "Write a program to determine whether a number is positive, negative, or zero."
   ]
  },
  {
   "cell_type": "code",
   "execution_count": 5,
   "metadata": {},
   "outputs": [
    {
     "name": "stdout",
     "output_type": "stream",
     "text": [
      "enter a number: -8\n",
      "number is negative\n"
     ]
    }
   ],
   "source": [
    "num = int(input(\"enter a number: \"))\n",
    "if(num < 0):\n",
    "    print(\"number is negative\")\n",
    "elif(num > 0):\n",
    "    print(\"number is positive\")\n",
    "else:\n",
    "    print(\"number is zero\")\n",
    "    \n"
   ]
  },
  {
   "cell_type": "markdown",
   "metadata": {},
   "source": [
    "## Question 3\n",
    "Describe three different data types commonly used in programming"
   ]
  },
  {
   "cell_type": "code",
   "execution_count": null,
   "metadata": {},
   "outputs": [],
   "source": [
    "1. Integer (int):\n",
    "    \n",
    "a. Integer data type represents whole numbers without any fractional part.\n",
    "b. Integers can be positive, negative, or zero.\n",
    "c. In most programming languages, integers have a fixed size, which determines the range of values they can represent.\n",
    "d. Examples of integers: -3, 0, 42, 1000, etc.\n",
    "        \n",
    "2. String (str):\n",
    "    \n",
    "a.A string is a sequence of characters, typically used to represent text data.\n",
    "b.Strings are enclosed within quotation marks (either single or double) in most programming languages.\n",
    "c.Strings can contain letters, numbers, symbols, and whitespace.\n",
    "d.Examples of strings: \"Hello, world!\", \"12345\", \"Python\", etc.\n",
    "    \n",
    "3. Float (floating-point number):\n",
    "    \n",
    "a.Float is a data type used to represent numbers with a fractional part.\n",
    "b.Floats are used to represent real numbers, including numbers with decimal points.\n",
    "c.Floats are approximate representations of real numbers, and their precision depends on the programming language and hardware.\n",
    "d.Examples of floats: 3.14, -0.5, 2.71828, etc."
   ]
  },
  {
   "cell_type": "markdown",
   "metadata": {},
   "source": [
    "## Question 4\n",
    "Write a program to print a pattern where 'n' repeats 1, 2, and 3 times respectively.\n"
   ]
  },
  {
   "cell_type": "code",
   "execution_count": 14,
   "metadata": {},
   "outputs": [
    {
     "name": "stdout",
     "output_type": "stream",
     "text": [
      "n \n",
      "n n \n",
      "n n n \n"
     ]
    }
   ],
   "source": [
    "def print_pattern(n):\n",
    "    for i in range(1, n + 1):\n",
    "        print('n ' * i)\n",
    "\n",
    "print_pattern(3)\n"
   ]
  },
  {
   "cell_type": "markdown",
   "metadata": {},
   "source": [
    "## Question 5\n",
    "\n",
    "Write a program to calculate the number of days between two given dates."
   ]
  },
  {
   "cell_type": "code",
   "execution_count": 21,
   "metadata": {},
   "outputs": [
    {
     "name": "stdout",
     "output_type": "stream",
     "text": [
      "Number of Days between the given Dates are:  153 days\n"
     ]
    }
   ],
   "source": [
    "from datetime import date\n",
    "   \n",
    "def number_of_days(date_1, date_2):  \n",
    "    return (date_2 - date_1).days  \n",
    "        \n",
    "date_1 = date(2023, 9, 12)  \n",
    "date_2 = date(2024, 2, 12)  \n",
    "print (\"Number of Days between the given Dates are: \",number_of_days(date_1, date_2), \"days\")  \n"
   ]
  },
  {
   "cell_type": "markdown",
   "metadata": {},
   "source": [
    "## Question 6\n",
    "Write a program to calculate the volume of a sphere given its radius."
   ]
  },
  {
   "cell_type": "code",
   "execution_count": 27,
   "metadata": {},
   "outputs": [
    {
     "name": "stdout",
     "output_type": "stream",
     "text": [
      "volume of sphere: 113.040\n"
     ]
    }
   ],
   "source": [
    "def sphere(r):\n",
    "    pi = 3.14\n",
    "    return(4/3*pi*r*r*r)\n",
    "print(\"volume of sphere: %.3f\" %sphere(3))"
   ]
  },
  {
   "cell_type": "markdown",
   "metadata": {},
   "source": [
    "## Question 7\n",
    "Write a program to get the difference between a given number and 17, if the number is greater than 17, return double the absolute difference.3\n",
    "\n"
   ]
  },
  {
   "cell_type": "code",
   "execution_count": 40,
   "metadata": {},
   "outputs": [
    {
     "data": {
      "text/plain": [
       "10"
      ]
     },
     "execution_count": 40,
     "metadata": {},
     "output_type": "execute_result"
    }
   ],
   "source": [
    "def difference(n):\n",
    "    if(n<=17):\n",
    "        return(17-n)\n",
    "    else:\n",
    "        return((n-17)*2)\n",
    "\n",
    "\n",
    "difference(22)\n",
    "\n"
   ]
  },
  {
   "cell_type": "markdown",
   "metadata": {},
   "source": [
    "## Question 8\n",
    "\n",
    "Write a program that accepts a string and checks if it starts with \"Is\"."
   ]
  },
  {
   "cell_type": "code",
   "execution_count": 1,
   "metadata": {},
   "outputs": [
    {
     "name": "stdout",
     "output_type": "stream",
     "text": [
      "Enter a string: ishani\n",
      "Entered string starts with 'is'.\n"
     ]
    }
   ],
   "source": [
    "def str_start_with(string):\n",
    "    return string.startswith(\"is\")\n",
    "\n",
    "str = input(\"Enter a string: \")\n",
    "if(str_start_with(str)):\n",
    "    print(\"Entered string starts with 'is'.\")\n",
    "else:\n",
    "    print(\"Entered string does not starts with 'is'.\")\n",
    "    "
   ]
  },
  {
   "cell_type": "markdown",
   "metadata": {},
   "source": [
    "## Question 9\n",
    "\n",
    "Write a program to get a string which is n (non-negative integer) copies of a given string."
   ]
  },
  {
   "cell_type": "code",
   "execution_count": 11,
   "metadata": {},
   "outputs": [
    {
     "name": "stdout",
     "output_type": "stream",
     "text": [
      "Enter the string: hello \n",
      "Enter the number of copies: 5\n",
      "Result: hello hello hello hello hello \n"
     ]
    }
   ],
   "source": [
    "def copy_string(s, n):\n",
    "    if n < 0:\n",
    "        return \"Number of copies should be non-negative.\"\n",
    "    else:\n",
    "        return s * n\n",
    "\n",
    "given_string = input(\"Enter the string: \")\n",
    "num_copies = int(input(\"Enter the number of copies: \"))\n",
    "\n",
    "result = copy_string(given_string, num_copies)\n",
    "print(\"Result:\", result)\n"
   ]
  },
  {
   "cell_type": "markdown",
   "metadata": {},
   "source": [
    "## Question 10 \n",
    "Write a program to find if a given number is odd or even.\n",
    "\n"
   ]
  },
  {
   "cell_type": "code",
   "execution_count": 9,
   "metadata": {},
   "outputs": [
    {
     "name": "stdout",
     "output_type": "stream",
     "text": [
      "enter a number: 15\n",
      "entered number is odd.\n"
     ]
    }
   ],
   "source": [
    "num = int(input(\"enter a number: \"))\n",
    "if num % 2 == 0:\n",
    "    print(\"entered number is even.\")\n",
    "else:\n",
    "    print(\"entered number is odd.\")"
   ]
  },
  {
   "cell_type": "markdown",
   "metadata": {},
   "source": [
    "## Question 11\n",
    "Write a program to check whether a character is a vowel or consonant.."
   ]
  },
  {
   "cell_type": "code",
   "execution_count": 24,
   "metadata": {},
   "outputs": [
    {
     "name": "stdout",
     "output_type": "stream",
     "text": [
      "vowel.\n",
      "consonent.\n"
     ]
    }
   ],
   "source": [
    "def vowelorconsonent(x):\n",
    "    if(x=='a' or x=='e' or x=='i' or x=='o' or x=='u'):\n",
    "      print(\"vowel.\")\n",
    "    else:\n",
    "      print(\"consonent.\")\n",
    "\n",
    "vowelorconsonent('i')\n",
    "vowelorconsonent('z')"
   ]
  },
  {
   "cell_type": "markdown",
   "metadata": {},
   "source": [
    "## Question 12\n",
    "Write a program to calculate the area of a triangle when the base and height are given"
   ]
  },
  {
   "cell_type": "code",
   "execution_count": 28,
   "metadata": {},
   "outputs": [
    {
     "name": "stdout",
     "output_type": "stream",
     "text": [
      "area of triangle is 334.000\n"
     ]
    }
   ],
   "source": [
    "def triangle(h,b):\n",
    "    return((h*b)/2)\n",
    "print(\"area of triangle is %.3f\" %triangle(33.4,20))\n",
    "\n",
    "\n",
    "    "
   ]
  },
  {
   "cell_type": "markdown",
   "metadata": {},
   "source": [
    "## Question 13\n",
    "Write a program to return True if a number in the given list is even."
   ]
  },
  {
   "cell_type": "code",
   "execution_count": 44,
   "metadata": {},
   "outputs": [
    {
     "name": "stdout",
     "output_type": "stream",
     "text": [
      "enter any element: 7\n",
      "False\n"
     ]
    }
   ],
   "source": [
    "\n",
    "def oddeven(i):\n",
    "        if (i % 2 == 0):\n",
    "            return True\n",
    "        else:\n",
    "            return False\n",
    "i = int(input(\"enter any element: \"))\n",
    "result=oddeven(i)\n",
    "print(result)\n"
   ]
  },
  {
   "cell_type": "markdown",
   "metadata": {},
   "source": [
    "## Question 14\n",
    "Write a program to create a new string where 'xy' has been added to the front of a given string. If the string already begins with 'xy', return the string unchanged.\n"
   ]
  },
  {
   "cell_type": "code",
   "execution_count": 53,
   "metadata": {},
   "outputs": [
    {
     "name": "stdout",
     "output_type": "stream",
     "text": [
      "enter strings: x y e k u \n",
      "result is :  x y e k u \n"
     ]
    }
   ],
   "source": [
    "def add_new_str(string):\n",
    "    if string.startswith('x y'):\n",
    "        return string\n",
    "    else:\n",
    "        return 'x y ' + string\n",
    "\n",
    "string = input(\"enter strings: \")\n",
    "result = add_new_str(string)\n",
    "print(\"result is : \", result)\n",
    "\n",
    "\n"
   ]
  },
  {
   "cell_type": "markdown",
   "metadata": {},
   "source": [
    "## Question 15\n",
    "Write a program to calculate the principal amount when the interest, time, and amount are given.\n"
   ]
  },
  {
   "cell_type": "code",
   "execution_count": 55,
   "metadata": {},
   "outputs": [
    {
     "name": "stdout",
     "output_type": "stream",
     "text": [
      "Enter the amount: 200\n",
      "Enter the interest rate (in %): 10.2\n",
      "Enter the time (in years): 3\n",
      "Principal amount: 153.1393568147014\n"
     ]
    }
   ],
   "source": [
    "def cal_principal(amount, interest, time):\n",
    "    principal = amount / (1 + (interest * time) / 100)\n",
    "    return principal\n",
    "\n",
    "amount = float(input(\"Enter the amount: \"))\n",
    "interest = float(input(\"Enter the interest rate (in %): \"))\n",
    "time = float(input(\"Enter the time (in years): \"))\n",
    "\n",
    "principal = cal_principal(amount, interest, time)\n",
    "print(\"Principal amount:\", principal)\n",
    "\n",
    "    "
   ]
  },
  {
   "cell_type": "markdown",
   "metadata": {},
   "source": [
    "## Question 16\n",
    "Write a program to calculate the distance between two points (x1, y1) and (x2, y2)."
   ]
  },
  {
   "cell_type": "code",
   "execution_count": 56,
   "metadata": {},
   "outputs": [
    {
     "name": "stdout",
     "output_type": "stream",
     "text": [
      "Enter x-coordinate of first point: 2\n",
      "Enter y-coordinate of first point: 8\n",
      "Enter x-coordinate of second point: 6\n",
      "Enter y-coordinate of second point: 9\n",
      "Distance between the points: 4.123105625617661\n"
     ]
    }
   ],
   "source": [
    "import math\n",
    "\n",
    "def cal_distance(x1, y1, x2, y2):\n",
    "    distance = math.sqrt((x2 - x1)**2 + (y2 - y1)**2)\n",
    "    return distance\n",
    "\n",
    "x1 = float(input(\"Enter x-coordinate of first point: \"))\n",
    "y1 = float(input(\"Enter y-coordinate of first point: \"))\n",
    "x2 = float(input(\"Enter x-coordinate of second point: \"))\n",
    "y2 = float(input(\"Enter y-coordinate of second point: \"))\n",
    "\n",
    "distance = cal_distance(x1, y1, x2, y2)\n",
    "print(\"Distance between the points:\", distance)\n"
   ]
  },
  {
   "cell_type": "markdown",
   "metadata": {},
   "source": [
    "## Question 17\n",
    "Write a program to convert height in feet and inches to centimeters."
   ]
  },
  {
   "cell_type": "code",
   "execution_count": null,
   "metadata": {},
   "outputs": [],
   "source": [
    "def feet_inches_to_cm(feet, inches):\n",
    "    total_inches = feet * 12 + inches\n",
    "    height_cm = total_inches * 2.54\n",
    "    return height_cm\n",
    "\n",
    "feet = int(input(\"Enter the height in feet: \"))\n",
    "inches = int(input(\"Enter the remaining inches: \"))\n",
    "\n",
    "height_cm = feet_inches_to_cm(feet, inches)\n",
    "print(\"Height in centimeters:\", height_cm)\n"
   ]
  },
  {
   "cell_type": "markdown",
   "metadata": {},
   "source": [
    "## Question 18\n",
    "Write a program to find the length of the hypotenuse of a right-angled triangle."
   ]
  },
  {
   "cell_type": "code",
   "execution_count": 1,
   "metadata": {},
   "outputs": [
    {
     "name": "stdout",
     "output_type": "stream",
     "text": [
      "Enter the length of one leg of the triangle: 15.1\n",
      "Enter the length of the other leg of the triangle: 10.4\n",
      "The length of the hypotenuse is: 18.334939323597446\n"
     ]
    }
   ],
   "source": [
    "import math\n",
    "\n",
    "def hypotenuse_length(a, b):\n",
    "    return math.sqrt(a**2 + b**2)\n",
    "\n",
    "side1 = float(input(\"Enter the length of one leg of the triangle: \"))\n",
    "side2 = float(input(\"Enter the length of the other leg of the triangle: \"))\n",
    "\n",
    "hypotenuse = hypotenuse_length(side1, side2)\n",
    "print(\"The length of the hypotenuse is:\", hypotenuse)\n",
    "\n"
   ]
  },
  {
   "cell_type": "code",
   "execution_count": null,
   "metadata": {},
   "outputs": [],
   "source": [
    "## Question 19\n",
    "Write a program to convert distance in kilometers to miles."
   ]
  },
  {
   "cell_type": "code",
   "execution_count": 3,
   "metadata": {},
   "outputs": [
    {
     "name": "stdout",
     "output_type": "stream",
     "text": [
      "Enter value in kilometers: 78\n",
      "78.00 kilometers is equal to 48.47 miles\n"
     ]
    }
   ],
   "source": [
    "kilometers = float(input(\"Enter value in kilometers: \"))\n",
    "\n",
    "conv_fac = 0.621371\n",
    "\n",
    "miles = kilometers * conv_fac\n",
    "print('%0.2f kilometers is equal to %0.2f miles' %(kilometers,miles))\n"
   ]
  },
  {
   "cell_type": "markdown",
   "metadata": {},
   "source": [
    "## Question 20\n",
    "Write a program to convert days, hours, minutes, and seconds into seconds."
   ]
  },
  {
   "cell_type": "code",
   "execution_count": 6,
   "metadata": {},
   "outputs": [
    {
     "name": "stdout",
     "output_type": "stream",
     "text": [
      "enter day: 365\n",
      "enter hours: 145\n",
      "enter minutes: 488\n",
      "enter seconds: 5544\n",
      "the total seconds is:  32092824\n"
     ]
    }
   ],
   "source": [
    "days = int(input(\"enter day: \"))*24*60*60\n",
    "hour = int(input(\"enter hours: \"))*60*60\n",
    "minutes = int(input(\"enter minutes: \"))*60\n",
    "seconds = int(input(\"enter seconds: \"))\n",
    "time = days+hour+minutes+seconds\n",
    "print(\"the total seconds is: \",time)"
   ]
  },
  {
   "cell_type": "markdown",
   "metadata": {},
   "source": [
    "## Question 21\n",
    "Write a program to calculate Body Mass Index (BMI).\n"
   ]
  },
  {
   "cell_type": "code",
   "execution_count": 11,
   "metadata": {},
   "outputs": [
    {
     "name": "stdout",
     "output_type": "stream",
     "text": [
      "enter your weight: 47\n",
      "enter your height: 5\n",
      "you are overweight\n",
      "18799.999999999996\n"
     ]
    }
   ],
   "source": [
    "def BMI(weight,height):\n",
    "    return(weight/((height/100)**2))\n",
    "\n",
    "weight = int(input(\"enter your weight: \"))\n",
    "height = int(input(\"enter your height: \"))\n",
    "bmival=BMI(weight,height)\n",
    "if(bmival<18.5):\n",
    "    print(\"you are underweight.\")\n",
    "elif(bmival>18.5 and bmival<25):\n",
    "    print(\"weight normal.\")\n",
    "else:\n",
    "    print(\"you are overweight\")\n",
    "print(bmival)\n",
    "\n",
    "    "
   ]
  },
  {
   "cell_type": "markdown",
   "metadata": {},
   "source": [
    "## Question 22\n",
    "Write a program to convert temperature from Celsius to Fahrenheit and vice versa.\n",
    "\n"
   ]
  },
  {
   "cell_type": "code",
   "execution_count": 1,
   "metadata": {},
   "outputs": [
    {
     "name": "stdout",
     "output_type": "stream",
     "text": [
      "37.5 degree Celsius is equal to 99.5 degree Fahrenheit\n"
     ]
    }
   ],
   "source": [
    "celsius = 37.5\n",
    "\n",
    "# calculate fahrenheit\n",
    "fahrenheit = (celsius * 1.8) + 32\n",
    "print('%0.1f degree Celsius is equal to %0.1f degree Fahrenheit' %(celsius,fahrenheit))\n"
   ]
  },
  {
   "cell_type": "markdown",
   "metadata": {},
   "source": [
    "## Question 23\n",
    "Write a program to sum the first 'n' positive integers.\n"
   ]
  },
  {
   "cell_type": "code",
   "execution_count": 2,
   "metadata": {},
   "outputs": [
    {
     "name": "stdout",
     "output_type": "stream",
     "text": [
      "Input a number: 5\n",
      "Sum of the first 5 positive integers: 15.0\n"
     ]
    }
   ],
   "source": [
    "n = int(input(\"Input a number: \"))\n",
    "\n",
    "sum_num = (n * (n + 1)) / 2\n",
    "\n",
    "print(\"Sum of the first\", n, \"positive integers:\", sum_num)\n"
   ]
  },
  {
   "cell_type": "markdown",
   "metadata": {},
   "source": [
    "## Question 24\n",
    "Write a program to calculate the sum of all the digits in a given integer.\n"
   ]
  },
  {
   "cell_type": "code",
   "execution_count": 4,
   "metadata": {},
   "outputs": [
    {
     "name": "stdout",
     "output_type": "stream",
     "text": [
      "3\n"
     ]
    }
   ],
   "source": [
    "def getSum(n):\n",
    "    \n",
    "    sum = 0\n",
    "    while (n != 0):\n",
    "       \n",
    "        sum = sum + (n % 10)\n",
    "        n = n//10\n",
    "       \n",
    "    return sum\n",
    "   \n",
    "n = 300\n",
    "print(getSum(n))\n"
   ]
  },
  {
   "cell_type": "markdown",
   "metadata": {},
   "source": [
    "## Question 25\n",
    "Write a program to convert a decimal number into binary, octal, and hexadecimal.\n"
   ]
  },
  {
   "cell_type": "code",
   "execution_count": 5,
   "metadata": {},
   "outputs": [
    {
     "name": "stdout",
     "output_type": "stream",
     "text": [
      "The decimal value of 344 is:\n",
      "0b101011000 in binary.\n",
      "0o530 in octal.\n",
      "0x158 in hexadecimal.\n"
     ]
    }
   ],
   "source": [
    "decimal = 344\n",
    "\n",
    "print(\"The decimal value of\", decimal, \"is:\")\n",
    "print(bin(decimal), \"in binary.\")\n",
    "print(oct(decimal), \"in octal.\")\n",
    "print(hex(decimal), \"in hexadecimal.\")\n"
   ]
  },
  {
   "cell_type": "markdown",
   "metadata": {},
   "source": [
    "## Question 26\n",
    "Write a program to convert a binary number to decimal.\n"
   ]
  },
  {
   "cell_type": "code",
   "execution_count": 12,
   "metadata": {},
   "outputs": [
    {
     "name": "stdout",
     "output_type": "stream",
     "text": [
      "Enter a binary number:10\n",
      "The decimal value is: 2\n"
     ]
    }
   ],
   "source": [
    "\n",
    "binary = input(\"Enter a binary number:\")\n",
    "\n",
    "BinaryToDecimal(binary)\n",
    "\n",
    "def BinaryToDecimal(binary):\n",
    "    decimal = 0\n",
    "    for digit in binary:\n",
    "        decimal = decimal*2 + int(digit)\n",
    "    print(\"The decimal value is:\", decimal)"
   ]
  },
  {
   "cell_type": "markdown",
   "metadata": {},
   "source": [
    "## Question 27\n",
    "Write a program to convert an octal number to decimal.\n"
   ]
  },
  {
   "cell_type": "code",
   "execution_count": 16,
   "metadata": {},
   "outputs": [
    {
     "name": "stdout",
     "output_type": "stream",
     "text": [
      "Enter the Octal Number: 124\n",
      "\n",
      "Equivalent Decimal Value = 84\n"
     ]
    }
   ],
   "source": [
    "print(\"Enter the Octal Number: \", end=\"\")\n",
    "onum = input()\n",
    "\n",
    "dnum = int(onum, 8)\n",
    "print(\"\\nEquivalent Decimal Value =\", dnum)"
   ]
  },
  {
   "cell_type": "markdown",
   "metadata": {},
   "source": [
    "## Question 28\n",
    "Write a program to convert a hexadecimal number to decimal.\n"
   ]
  },
  {
   "cell_type": "code",
   "execution_count": 17,
   "metadata": {},
   "outputs": [
    {
     "name": "stdout",
     "output_type": "stream",
     "text": [
      "Enter the Hexadecimal Number: \n",
      "4A7F\n",
      "\n",
      "Equivalent Decimal Value:  19071\n"
     ]
    }
   ],
   "source": [
    "print(\"Enter the Hexadecimal Number: \")\n",
    "hexdecnum = input()\n",
    "\n",
    "chk = 0\n",
    "decnum = 0\n",
    "hexdecnumlen = len(hexdecnum)\n",
    "hexdecnumlen = hexdecnumlen-1\n",
    "i = 0\n",
    "while hexdecnumlen>=0:\n",
    "    rem = hexdecnum[hexdecnumlen]\n",
    "    if rem>='0' and rem<='9':\n",
    "        rem = int(rem)\n",
    "    elif rem>='A' and rem<='F':\n",
    "        rem = ord(rem)\n",
    "        rem = rem-55\n",
    "    elif rem>='a' and rem<='f':\n",
    "        rem = ord(rem)\n",
    "        rem = rem-87\n",
    "    else:\n",
    "        chk = 1\n",
    "        break\n",
    "    decnum = decnum + (rem * (16 ** i))\n",
    "    hexdecnumlen = hexdecnumlen-1\n",
    "    i = i+1\n",
    "\n",
    "if chk == 0:\n",
    "    print(\"\\nEquivalent Decimal Value: \", decnum)\n",
    "else:\n",
    "    print(\"\\nInvalid Input!\")"
   ]
  },
  {
   "cell_type": "markdown",
   "metadata": {},
   "source": [
    "## Question 29\n",
    "Write a program to count the number of occurrences of a specific character in a string.\n"
   ]
  },
  {
   "cell_type": "code",
   "execution_count": 19,
   "metadata": {},
   "outputs": [
    {
     "name": "stdout",
     "output_type": "stream",
     "text": [
      "1\n"
     ]
    }
   ],
   "source": [
    "count = 0\n",
    "\n",
    "my_string = \"Programiz\"\n",
    "my_char = \"z\"\n",
    "\n",
    "for i in my_string:\n",
    "    if i == my_char:\n",
    "        count += 1\n",
    "\n",
    "print(count)"
   ]
  },
  {
   "cell_type": "markdown",
   "metadata": {},
   "source": [
    "## Question 30\n",
    "Write a program to find the greatest common divisor (GCD) or highest common factor (HCF) of two numbers.\n"
   ]
  },
  {
   "cell_type": "code",
   "execution_count": 20,
   "metadata": {},
   "outputs": [
    {
     "name": "stdout",
     "output_type": "stream",
     "text": [
      "The H.C.F. is 6\n"
     ]
    }
   ],
   "source": [
    "def compute_hcf(x, y):\n",
    "\n",
    "    if x > y:\n",
    "        smaller = y\n",
    "    else:\n",
    "        smaller = x\n",
    "    for i in range(1, smaller+1):\n",
    "        if((x % i == 0) and (y % i == 0)):\n",
    "            hcf = i \n",
    "    return hcf\n",
    "\n",
    "num1 = 54 \n",
    "num2 = 24\n",
    "\n",
    "print(\"The H.C.F. is\", compute_hcf(num1, num2))\n"
   ]
  },
  {
   "cell_type": "markdown",
   "metadata": {},
   "source": [
    "## Question 31\n",
    "Write a program to find the least common multiple (LCM) of two numbers.\n"
   ]
  },
  {
   "cell_type": "code",
   "execution_count": 21,
   "metadata": {},
   "outputs": [
    {
     "name": "stdout",
     "output_type": "stream",
     "text": [
      "The L.C.M. is 216\n"
     ]
    }
   ],
   "source": [
    "def compute_lcm(x, y):\n",
    "\n",
    "   if x > y:\n",
    "       greater = x\n",
    "   else:\n",
    "       greater = y\n",
    "\n",
    "   while(True):\n",
    "       if((greater % x == 0) and (greater % y == 0)):\n",
    "           lcm = greater\n",
    "           break\n",
    "       greater += 1\n",
    "\n",
    "   return lcm\n",
    "\n",
    "num1 = 54\n",
    "num2 = 24\n",
    "\n",
    "print(\"The L.C.M. is\", compute_lcm(num1, num2))"
   ]
  },
  {
   "cell_type": "markdown",
   "metadata": {},
   "source": [
    "## Question 32\n",
    "Write a program to reverse a given name.\n"
   ]
  },
  {
   "cell_type": "code",
   "execution_count": 22,
   "metadata": {},
   "outputs": [
    {
     "name": "stdout",
     "output_type": "stream",
     "text": [
      "The original string is:  Sharda\n",
      "The reverse string is adrahS\n"
     ]
    }
   ],
   "source": [
    "def reverse_string(str):  \n",
    "    str1 = \"\"    \n",
    "    for i in str:  \n",
    "        str1 = i + str1  \n",
    "    return str1    \n",
    "     \n",
    "str = \"Sharda\"         \n",
    "print(\"The original string is: \",str)  \n",
    "print(\"The reverse string is\",reverse_string(str))\n"
   ]
  },
  {
   "cell_type": "markdown",
   "metadata": {},
   "source": [
    "## Question 33\n",
    "Write a program to count the occurrences of a substring in a given string.\n"
   ]
  },
  {
   "cell_type": "code",
   "execution_count": 23,
   "metadata": {},
   "outputs": [
    {
     "name": "stdout",
     "output_type": "stream",
     "text": [
      "Number of substrings 4\n"
     ]
    }
   ],
   "source": [
    "ini_str = \"ababababa\"\n",
    "sub_str = 'aba'\n",
    " \n",
    "res = sum(1 for i in range(len(ini_str)) \n",
    "        if ini_str.startswith(\"aba\", i))\n",
    "\n",
    "print(\"Number of substrings\", res)"
   ]
  },
  {
   "cell_type": "markdown",
   "metadata": {},
   "source": [
    "## Question 34\n",
    "Write a program to distribute a given amount into notes.\n"
   ]
  },
  {
   "cell_type": "code",
   "execution_count": 25,
   "metadata": {},
   "outputs": [
    {
     "name": "stdout",
     "output_type": "stream",
     "text": [
      "Enter the amount to distribute into notes: 200\n",
      "Notes distribution:\n",
      "200 : 1\n"
     ]
    }
   ],
   "source": [
    "def distribute_notes(amount):\n",
    "    notes = [2000, 500, 200, 100, 50, 20, 10, 5, 2, 1]\n",
    "    notes_count = {}\n",
    "\n",
    "    for note in notes:\n",
    "        if amount >= note:\n",
    "            count = amount // note\n",
    "            notes_count[note] = count\n",
    "            amount -= count * note\n",
    "\n",
    "    return notes_count\n",
    "\n",
    "def main():\n",
    "    amount = int(input(\"Enter the amount to distribute into notes: \"))\n",
    "    notes_count = distribute_notes(amount)\n",
    "    print(\"Notes distribution:\")\n",
    "    for note, count in notes_count.items():\n",
    "        print(f\"{note} : {count}\")\n",
    "\n",
    "if __name__ == \"__main__\":\n",
    "    main()\n"
   ]
  },
  {
   "cell_type": "markdown",
   "metadata": {},
   "source": [
    "## Question 35\n",
    "Write a program to check whether a given string is a palindrome or not.\n"
   ]
  },
  {
   "cell_type": "code",
   "execution_count": 28,
   "metadata": {},
   "outputs": [
    {
     "name": "stdout",
     "output_type": "stream",
     "text": [
      "Enter a string to check if it's a palindrome: level\n",
      "Yes, it's a palindrome!\n"
     ]
    }
   ],
   "source": [
    "def is_palindrome(s):\n",
    "    s = ''.join(char.lower() for char in s if char.isalnum())\n",
    "    return s == s[::-1]\n",
    "\n",
    "def main():\n",
    "    string = input(\"Enter a string to check if it's a palindrome: \")\n",
    "    if is_palindrome(string):\n",
    "        print(\"Yes, it's a palindrome!\")\n",
    "    else:\n",
    "        print(\"No, it's not a palindrome.\")\n",
    "\n",
    "if __name__ == \"__main__\":\n",
    "    main()\n"
   ]
  },
  {
   "cell_type": "markdown",
   "metadata": {},
   "source": [
    "## Question 36\n",
    "Write a program to check whether a given number is a palindrome or not.\n"
   ]
  },
  {
   "cell_type": "code",
   "execution_count": 29,
   "metadata": {},
   "outputs": [
    {
     "name": "stdout",
     "output_type": "stream",
     "text": [
      "Enter number:1221\n",
      "The number is a palindrome!\n"
     ]
    }
   ],
   "source": [
    "n=int(input(\"Enter number:\"))\n",
    "temp=n\n",
    "rev=0\n",
    "while(n>0):\n",
    "    dig=n%10\n",
    "    rev=rev*10+dig\n",
    "    n=n//10\n",
    "if(temp==rev):\n",
    "    print(\"The number is a palindrome!\")\n",
    "else:\n",
    "    print(\"The number isn't a palindrome!\")"
   ]
  },
  {
   "cell_type": "markdown",
   "metadata": {},
   "source": [
    "## Question 37\n",
    "Write a program to generate the Fibonacci series.\n"
   ]
  },
  {
   "cell_type": "code",
   "execution_count": 30,
   "metadata": {},
   "outputs": [
    {
     "name": "stdout",
     "output_type": "stream",
     "text": [
      "How many terms? 9\n",
      "Fibonacci sequence:\n",
      "0\n",
      "1\n",
      "1\n",
      "2\n",
      "3\n",
      "5\n",
      "8\n",
      "13\n",
      "21\n"
     ]
    }
   ],
   "source": [
    "nterms = int(input(\"How many terms? \"))\n",
    "\n",
    "n1, n2 = 0, 1\n",
    "count = 0\n",
    "\n",
    "if nterms <= 0:\n",
    "   print(\"Please enter a positive integer\")\n",
    "elif nterms == 1:\n",
    "   print(\"Fibonacci sequence upto\",nterms,\":\")\n",
    "   print(n1)\n",
    "else:\n",
    "   print(\"Fibonacci sequence:\")\n",
    "   while count < nterms:\n",
    "       print(n1)\n",
    "       nth = n1 + n2\n",
    "       n1 = n2\n",
    "       n2 = nth\n",
    "       count += 1"
   ]
  },
  {
   "cell_type": "markdown",
   "metadata": {},
   "source": [
    "## Question 38\n",
    "Write a program to print the multiplication table of a given number.\n"
   ]
  },
  {
   "cell_type": "code",
   "execution_count": 31,
   "metadata": {},
   "outputs": [
    {
     "name": "stdout",
     "output_type": "stream",
     "text": [
      "12 x 1 = 12\n",
      "12 x 2 = 24\n",
      "12 x 3 = 36\n",
      "12 x 4 = 48\n",
      "12 x 5 = 60\n",
      "12 x 6 = 72\n",
      "12 x 7 = 84\n",
      "12 x 8 = 96\n",
      "12 x 9 = 108\n",
      "12 x 10 = 120\n"
     ]
    }
   ],
   "source": [
    "num = 12\n",
    "\n",
    "for i in range(1, 11):\n",
    "   print(num, 'x', i, '=', num*i)\n"
   ]
  },
  {
   "cell_type": "markdown",
   "metadata": {},
   "source": [
    "## Question 39\n",
    "Write a program to count the number of letters and digits in a given string.\n"
   ]
  },
  {
   "cell_type": "code",
   "execution_count": 34,
   "metadata": {},
   "outputs": [
    {
     "name": "stdout",
     "output_type": "stream",
     "text": [
      "Letters: 15\n",
      "Digits: 0\n"
     ]
    }
   ],
   "source": [
    "str = \"Sharda_Chaudhary\"\n",
    "digit=letter=0\n",
    "for ch in str:\n",
    "   if ch.isdigit():\n",
    "      digit=digit+1\n",
    "   elif ch.isalpha():\n",
    "      letter=letter+1\n",
    "   else:\n",
    "      pass\n",
    "print(\"Letters:\", letter)\n",
    "print(\"Digits:\", digit)"
   ]
  },
  {
   "cell_type": "markdown",
   "metadata": {},
   "source": [
    "## Question 40\n",
    "Write a program to print the following pattern:\n"
   ]
  },
  {
   "cell_type": "code",
   "execution_count": 37,
   "metadata": {},
   "outputs": [],
   "source": [
    "  \n",
    "for i in range(0, rows):  \n",
    "      \n",
    "        for j in range(0, i + 1):  \n",
    "            print(\"* \", end=\" \")       \n",
    "  \n",
    "        print()"
   ]
  },
  {
   "cell_type": "code",
   "execution_count": null,
   "metadata": {},
   "outputs": [],
   "source": []
  }
 ],
 "metadata": {
  "anaconda-cloud": {},
  "kernelspec": {
   "display_name": "Python 3 (ipykernel)",
   "language": "python",
   "name": "python3"
  },
  "language_info": {
   "codemirror_mode": {
    "name": "ipython",
    "version": 3
   },
   "file_extension": ".py",
   "mimetype": "text/x-python",
   "name": "python",
   "nbconvert_exporter": "python",
   "pygments_lexer": "ipython3",
   "version": "3.11.5"
  }
 },
 "nbformat": 4,
 "nbformat_minor": 4
}
